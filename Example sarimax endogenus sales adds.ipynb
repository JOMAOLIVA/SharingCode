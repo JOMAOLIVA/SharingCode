{
 "cells": [
  {
   "cell_type": "code",
   "execution_count": 5,
   "id": "660e6143",
   "metadata": {},
   "outputs": [
    {
     "name": "stderr",
     "output_type": "stream",
     "text": [
      "C:\\Users\\JOMAO\\AppData\\Local\\Temp\\ipykernel_23704\\674514619.py:33: FutureWarning: 'M' is deprecated and will be removed in a future version, please use 'ME' instead.\n",
      "  dates = pd.date_range(start='2020-01-01', periods=100, freq='M')\n",
      "C:\\Users\\JOMAO\\AppData\\Local\\Temp\\ipykernel_23704\\674514619.py:42: FutureWarning: 'M' is deprecated and will be removed in a future version, please use 'ME' instead.\n",
      "  index=pd.date_range(start=dates[-1] + pd.DateOffset(months=1), periods=10, freq='M'),\n"
     ]
    },
    {
     "name": "stdout",
     "output_type": "stream",
     "text": [
      "2028-05-31   -2.650375\n",
      "2028-06-30   -2.348441\n",
      "2028-07-31   -2.499233\n",
      "2028-08-31   -2.396511\n",
      "2028-09-30   -2.914490\n",
      "2028-10-31   -3.046805\n",
      "2028-11-30   -2.706791\n",
      "2028-12-31   -3.201287\n",
      "2029-01-31   -3.154335\n",
      "2029-02-28   -3.716375\n",
      "Freq: ME, Name: predicted_mean, dtype: float64\n"
     ]
    }
   ],
   "source": [
    "from statsmodels.tsa.statespace.sarimax import SARIMAX\n",
    "\n",
    "def sarimax_forecast(series, order, seasonal_order, steps, exog=None, exog_future=None):\n",
    "    \"\"\"\n",
    "    Realiza un pronóstico de serie de tiempo utilizando un modelo SARIMAX.\n",
    "    Args:\n",
    "        series (pd.Series): La serie de tiempo principal a pronosticar (variable endógena).\n",
    "        order (tuple): El orden del modelo (p, d, q).\n",
    "        seasonal_order (tuple): El orden estacional del modelo (P, D, Q, s)\n",
    "        steps (int): Número de pasos a futuro para el pronóstico.\n",
    "        exog (pd.DataFrame o np.array): DataFrame o array con las variables exógenas\n",
    "                                          para el período de entrenamiento.\n",
    "        exog_future (pd.DataFrame o np.array): DataFrame o array con los valores\n",
    "                                                futuros de las variables exógenas.\n",
    "    Returns:\n",
    "        pd.Series: El pronóstico para los pasos futuros.\n",
    "    \"\"\"\n",
    "    model = SARIMAX(series, order=order, seasonal_order=seasonal_order, exog=exog)\n",
    "    model_fit = model.fit(disp=False)\n",
    "    \n",
    "    # Para pronosticar, se deben proporcionar los valores futuros de las variables exógenas\n",
    "    forecast = model_fit.get_forecast(steps=steps, exog=exog_future)\n",
    "    \n",
    "    return forecast.predicted_mean\n",
    "\n",
    "\n",
    "import pandas as pd\n",
    "import numpy as np\n",
    "from statsmodels.tsa.statespace.sarimax import SARIMAX\n",
    "\n",
    "# Crear datos de ejemplo\n",
    "np.random.seed(42)\n",
    "dates = pd.date_range(start='2020-01-01', periods=100, freq='M')\n",
    "sales = np.random.randn(100) + np.sin(np.linspace(0, 10, 100)) * 5 # Serie principal (endógena)\n",
    "ads = np.random.randn(100) * 2 + 10 # Variable exógena\n",
    "\n",
    "sales_series = pd.Series(sales, index=dates)\n",
    "ads_df = pd.DataFrame(ads, index=dates, columns=['publicidad'])\n",
    "\n",
    "# Generar datos futuros para la variable exógena (obligatorio para el pronóstico)\n",
    "future_ads = pd.DataFrame(np.random.randn(10) * 2 + 10, \n",
    "                          index=pd.date_range(start=dates[-1] + pd.DateOffset(months=1), periods=10, freq='M'),\n",
    "                          columns=['publicidad'])\n",
    "\n",
    "# Parámetros del modelo (ejemplo)\n",
    "p, d, q = 1, 1, 1\n",
    "P, D, Q, s = 1, 1, 1, 12\n",
    "steps_to_forecast = 10\n",
    "\n",
    "# Usar la función modificada\n",
    "forecasted_sales = sarimax_forecast(series=sales_series, \n",
    "                                    order=(p, d, q), \n",
    "                                    seasonal_order=(P, D, Q, s), \n",
    "                                    steps=steps_to_forecast, \n",
    "                                    exog=ads_df, \n",
    "                                    exog_future=future_ads)\n",
    "\n",
    "print(forecasted_sales)\n"
   ]
  }
 ],
 "metadata": {
  "kernelspec": {
   "display_name": "base",
   "language": "python",
   "name": "python3"
  },
  "language_info": {
   "codemirror_mode": {
    "name": "ipython",
    "version": 3
   },
   "file_extension": ".py",
   "mimetype": "text/x-python",
   "name": "python",
   "nbconvert_exporter": "python",
   "pygments_lexer": "ipython3",
   "version": "3.12.7"
  }
 },
 "nbformat": 4,
 "nbformat_minor": 5
}
